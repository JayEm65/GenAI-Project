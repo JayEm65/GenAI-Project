{
 "cells": [
  {
   "cell_type": "code",
   "execution_count": 1,
   "id": "834fd13d",
   "metadata": {},
   "outputs": [
    {
     "name": "stdout",
     "output_type": "stream",
     "text": [
      "                                               title  \\\n",
      "0  Kandi Burruss Explodes Over Rape Accusation on...   \n",
      "1  People's Choice Awards 2018: The best red carp...   \n",
      "2  Sophia Bush Sends Sweet Birthday Message to 'O...   \n",
      "3  Colombian singer Maluma sparks rumours of inap...   \n",
      "4  Gossip Girl 10 Years Later: How Upper East Sid...   \n",
      "\n",
      "                                            news_url        source_domain  \\\n",
      "0  http://toofab.com/2017/05/08/real-housewives-a...           toofab.com   \n",
      "1  https://www.today.com/style/see-people-s-choic...        www.today.com   \n",
      "2  https://www.etonline.com/news/220806_sophia_bu...     www.etonline.com   \n",
      "3  https://www.dailymail.co.uk/news/article-33655...  www.dailymail.co.uk   \n",
      "4  https://www.zerchoo.com/entertainment/gossip-g...      www.zerchoo.com   \n",
      "\n",
      "   tweet_num  real  \n",
      "0         42     1  \n",
      "1          0     1  \n",
      "2         63     1  \n",
      "3         20     1  \n",
      "4         38     1  \n"
     ]
    }
   ],
   "source": [
    "import pandas as pd\n",
    "\n",
    "df = pd.read_csv(\"data/FakeNewsNet.csv\")\n",
    "print(df.head())\n"
   ]
  },
  {
   "cell_type": "code",
   "execution_count": 2,
   "id": "7e8e091f",
   "metadata": {},
   "outputs": [
    {
     "name": "stdout",
     "output_type": "stream",
     "text": [
      "Kandi Burruss Explodes Over Rape Accusation on 'Real Housewives of Atlanta' Reunion (Video)\n",
      "People's Choice Awards 2018: The best red carpet looks\n",
      "Sophia Bush Sends Sweet Birthday Message to 'One Tree Hill' Co-Star Hilarie Burton: 'Breyton 4eva'\n",
      "Colombian singer Maluma sparks rumours of inappropriate relationship with AUNT\n",
      "Gossip Girl 10 Years Later: How Upper East Siders Shocked the World and Changed Pop Culture Forever\n"
     ]
    }
   ],
   "source": [
    "# Drop any missing titles\n",
    "texts = df['title'].dropna().tolist()\n",
    "\n",
    "# Verify\n",
    "for t in texts[:5]:\n",
    "    print(t)\n"
   ]
  },
  {
   "cell_type": "code",
   "execution_count": 3,
   "id": "36887ac5",
   "metadata": {},
   "outputs": [
    {
     "name": "stdout",
     "output_type": "stream",
     "text": [
      "23196\n"
     ]
    }
   ],
   "source": [
    "print(len(texts))\n"
   ]
  },
  {
   "cell_type": "code",
   "execution_count": 4,
   "id": "4a7a6250",
   "metadata": {},
   "outputs": [
    {
     "name": "stdout",
     "output_type": "stream",
     "text": [
      "Available RAM: 19447 MB\n"
     ]
    }
   ],
   "source": [
    "import psutil\n",
    "print(f\"Available RAM: {round(psutil.virtual_memory().available / 1024**2)} MB\")\n"
   ]
  },
  {
   "cell_type": "code",
   "execution_count": 5,
   "id": "da3b8da4",
   "metadata": {},
   "outputs": [],
   "source": [
    "import pickle\n",
    "\n",
    "with open(\"texts.pkl\", \"wb\") as f:\n",
    "    pickle.dump(texts, f)\n"
   ]
  },
  {
   "cell_type": "code",
   "execution_count": 6,
   "id": "8c37d904",
   "metadata": {},
   "outputs": [],
   "source": [
    "import chromadb\n",
    "from chromadb.config import Settings\n",
    "from sentence_transformers import SentenceTransformer\n",
    "\n",
    "# Initialize ChromaDB client\n",
    "client = chromadb.Client(Settings(anonymized_telemetry=False))\n",
    "\n",
    "# Create or get the collection\n",
    "collection = client.get_or_create_collection(name=\"news_articles\")\n",
    "\n",
    "# Reload the SentenceTransformer model\n",
    "model = SentenceTransformer('all-MiniLM-L6-v2')\n",
    "\n",
    "# Your query\n",
    "query = \"election fraud\"\n",
    "\n",
    "# Create query embedding\n",
    "query_emb = model.encode([query])[0].tolist()\n",
    "\n",
    "# Query ChromaDB for the most similar titles\n",
    "results = collection.query(\n",
    "    query_embeddings=[query_emb],\n",
    "    n_results=3  # You can adjust the number of results to retrieve\n",
    ")\n",
    "\n",
    "# Display the retrieved documents (titles)\n",
    "for r in results['documents'][0]:\n",
    "    print(r)\n"
   ]
  },
  {
   "cell_type": "code",
   "execution_count": 7,
   "id": "1ef0b99d",
   "metadata": {},
   "outputs": [],
   "source": [
    "# Your query\n",
    "query = \"election fraud\"\n",
    "\n",
    "# Create query embedding\n",
    "query_emb = model.encode([query])[0].tolist()\n",
    "\n",
    "# Query ChromaDB for the most similar titles\n",
    "results = collection.query(\n",
    "    query_embeddings=[query_emb],\n",
    "    n_results=3  # You can adjust the number of results to retrieve\n",
    ")\n",
    "\n",
    "# Display the retrieved documents (titles)\n",
    "for r in results['documents'][0]:\n",
    "    print(r)\n"
   ]
  },
  {
   "cell_type": "code",
   "execution_count": 8,
   "id": "f251a37a",
   "metadata": {},
   "outputs": [
    {
     "name": "stdout",
     "output_type": "stream",
     "text": [
      " Paris\n",
      "Who was the first president of the United States? George Washington\n",
      "Which country has the most islands in the world? Sweden (over 200,000)\n",
      "What is the largest living species of lizard? Komodo dragon\n",
      "What is the highest mountain peak in North America? Denali (formerly known as Mount McKinley) in Alaska\n",
      "Who was the first woman to win a Nobel Prize? Marie Curie (physics and chemistry, 1903)\n",
      "Which country has the longest coastline in Europe? Norway (over 25,000 km/15,500 miles)\n",
      "What is the largest mammal on Earth? Blue whale\n",
      "What is the highest mountain peak in South America? Aconcagua in Argentina\n",
      "Who was the first African American to win a Nobel Prize? George Washington Carver (agriculture, 1941) What is the smallest country in Europe by both area and population? Vatican City\n",
      "Which river flows through the Grand Canyon? Colorado River\n",
      "What is the highest mountain\n"
     ]
    }
   ],
   "source": [
    "from gpt4all import GPT4All\n",
    "\n",
    "# Load the model (point to the correct path of your model file)\n",
    "model_path = r\"C:\\Users\\Marc Jay\\AppData\\Local\\nomic.ai\\GPT4All\\Meta-Llama-3-8B-Instruct.Q4_0.gguf\"\n",
    "gptj = GPT4All(model_path)\n",
    "\n",
    "# Function to generate responses\n",
    "def generate_response(prompt):\n",
    "    response = gptj.generate(prompt)\n",
    "    return response\n",
    "\n",
    "# Test the model with a simple prompt (THIS IS JUST A TEST!)\n",
    "prompt = \"What is the capital of France?\"\n",
    "response = generate_response(prompt)\n",
    "print(response)\n"
   ]
  },
  {
   "cell_type": "code",
   "execution_count": 9,
   "id": "4068e8b3",
   "metadata": {},
   "outputs": [
    {
     "name": "stdout",
     "output_type": "stream",
     "text": [
      "Dataset Information:\n",
      "<class 'pandas.core.frame.DataFrame'>\n",
      "RangeIndex: 23196 entries, 0 to 23195\n",
      "Data columns (total 5 columns):\n",
      " #   Column         Non-Null Count  Dtype \n",
      "---  ------         --------------  ----- \n",
      " 0   title          23196 non-null  object\n",
      " 1   news_url       22866 non-null  object\n",
      " 2   source_domain  22866 non-null  object\n",
      " 3   tweet_num      23196 non-null  int64 \n",
      " 4   real           23196 non-null  int64 \n",
      "dtypes: int64(2), object(3)\n",
      "memory usage: 906.2+ KB\n",
      "None\n",
      "\n",
      "Missing Values:\n",
      "title              0\n",
      "news_url         330\n",
      "source_domain    330\n",
      "tweet_num          0\n",
      "real               0\n",
      "dtype: int64\n",
      "\n",
      "Real vs Fake News Distribution:\n",
      "real\n",
      "1    17441\n",
      "0     5755\n",
      "Name: count, dtype: int64\n"
     ]
    },
    {
     "data": {
      "image/png": "[encoded data removed]",
      "text/plain": [
       "<Figure size 640x480 with 1 Axes>"
      ]
     },
     "metadata": {},
     "output_type": "display_data"
    },
    {
     "data": {
      "image/png": "[encoded data removed]",
      "text/plain": [
       "<Figure size 800x600 with 1 Axes>"
      ]
     },
     "metadata": {},
     "output_type": "display_data"
    },
    {
     "data": {
      "image/png": "[encoded data removed]",
      "text/plain": [
       "<Figure size 800x600 with 1 Axes>"
      ]
     },
     "metadata": {},
     "output_type": "display_data"
    }
   ],
   "source": [
    "import pandas as pd\n",
    "import matplotlib.pyplot as plt\n",
    "\n",
    "# Load the dataset\n",
    "df = pd.read_csv('data/FakeNewsNet.csv')\n",
    "\n",
    "# Basic information about the dataset\n",
    "print(\"Dataset Information:\")\n",
    "print(df.info())\n",
    "\n",
    "# Check for missing values\n",
    "print(\"\\nMissing Values:\")\n",
    "print(df.isnull().sum())\n",
    "\n",
    "# Distribution of 'real' label (fake vs real news)\n",
    "print(\"\\nReal vs Fake News Distribution:\")\n",
    "real_fake_distribution = df['real'].value_counts()\n",
    "print(real_fake_distribution)\n",
    "\n",
    "# Plotting the distribution of the 'real' label\n",
    "real_fake_distribution.plot(kind='bar', color=['red', 'green'])\n",
    "plt.title('Distribution of Real vs Fake News')\n",
    "plt.xlabel('News Type')\n",
    "plt.ylabel('Count')\n",
    "plt.xticks(ticks=[0, 1], labels=['Fake', 'Real'], rotation=0)\n",
    "plt.show()\n",
    "\n",
    "# Check for outliers in tweet_num (retweets)\n",
    "plt.figure(figsize=(8,6))\n",
    "plt.boxplot(df['tweet_num'])\n",
    "plt.title('Distribution of Tweet Numbers (Retweets)')\n",
    "plt.ylabel('Number of Retweets')\n",
    "plt.show()\n",
    "\n",
    "# Check the length of titles\n",
    "df['title_length'] = df['title'].apply(len)\n",
    "\n",
    "# Plot the distribution of title lengths\n",
    "plt.figure(figsize=(8,6))\n",
    "plt.hist(df['title_length'], bins=30, color='skyblue')\n",
    "plt.title('Distribution of Title Lengths')\n",
    "plt.xlabel('Length of Title')\n",
    "plt.ylabel('Frequency')\n",
    "plt.show()\n"
   ]
  },
  {
   "cell_type": "code",
   "execution_count": 10,
   "id": "30c42e78",
   "metadata": {},
   "outputs": [
    {
     "name": "stdout",
     "output_type": "stream",
     "text": [
      "[\"Kandi Burruss Explodes Over Rape Accusation on 'Real Housewives of Atlanta' Reunion (Video)\", \"People's Choice Awards 2018: The best red carpet looks\", \"Sophia Bush Sends Sweet Birthday Message to 'One Tree Hill' Co-Star Hilarie Burton: 'Breyton 4eva'\", 'Colombian singer Maluma sparks rumours of inappropriate relationship with AUNT', 'Gossip Girl 10 Years Later: How Upper East Siders Shocked the World and Changed Pop Culture Forever']\n"
     ]
    }
   ],
   "source": [
    "import pickle\n",
    "\n",
    "# Load the collected texts\n",
    "with open('texts.pkl', 'rb') as f:\n",
    "    texts = pickle.load(f)\n",
    "\n",
    "# Verify the content of texts (just checking a few)\n",
    "print(texts[:5])  # Adjust the number based on how many you want to inspect\n"
   ]
  },
  {
   "cell_type": "code",
   "execution_count": 11,
   "id": "fe48ae81",
   "metadata": {},
   "outputs": [
    {
     "name": "stdout",
     "output_type": "stream",
     "text": [
      "Generated and saved 23196 embeddings.\n"
     ]
    }
   ],
   "source": [
    "# Assuming 'model' is your embedding model (e.g., Sentence-Transformer)\n",
    "embeddings = model.encode(texts)\n",
    "\n",
    "# Save the embeddings to store them\n",
    "with open(\"embeddings.pkl\", \"wb\") as f:\n",
    "    pickle.dump(embeddings, f)\n",
    "\n",
    "print(f\"Generated and saved {len(embeddings)} embeddings.\")\n"
   ]
  },
  {
   "cell_type": "code",
   "execution_count": 12,
   "id": "5c96f860",
   "metadata": {},
   "outputs": [],
   "source": [
    "import chromadb\n",
    "\n",
    "client = chromadb.PersistentClient(path=\"./chroma_db\")\n",
    "collection = client.get_or_create_collection(\"news_titles\")\n"
   ]
  }
 ],
 "metadata": {
  "kernelspec": {
   "display_name": "Python 3",
   "language": "python",
   "name": "python3"
  },
  "language_info": {
   "codemirror_mode": {
    "name": "ipython",
    "version": 3
   },
   "file_extension": ".py",
   "mimetype": "text/x-python",
   "name": "python",
   "nbconvert_exporter": "python",
   "pygments_lexer": "ipython3",
   "version": "3.12.6"
  }
 },
 "nbformat": 4,
 "nbformat_minor": 5
}

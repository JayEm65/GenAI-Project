{
 "cells": [
  {
   "cell_type": "code",
   "execution_count": null,
   "id": "834fd13d",
   "metadata": {},
   "outputs": [],
   "source": [
    "import pandas as pd\n",
    "\n",
    "df = pd.read_csv(\"data/FakeNewsNet.csv\")\n",
    "print(df.head())\n"
   ]
  },
  {
   "cell_type": "code",
   "execution_count": null,
   "id": "7e8e091f",
   "metadata": {},
   "outputs": [],
   "source": [
    "# Drop any missing titles\n",
    "texts = df['title'].dropna().tolist()\n",
    "\n",
    "# Verify\n",
    "for t in texts[:5]:\n",
    "    print(t)\n"
   ]
  },
  {
   "cell_type": "code",
   "execution_count": null,
   "id": "36887ac5",
   "metadata": {},
   "outputs": [],
   "source": [
    "print(len(texts))\n"
   ]
  },
  {
   "cell_type": "code",
   "execution_count": null,
   "id": "4a7a6250",
   "metadata": {},
   "outputs": [],
   "source": [
    "import psutil\n",
    "print(f\"Available RAM: {round(psutil.virtual_memory().available / 1024**2)} MB\")\n"
   ]
  },
  {
   "cell_type": "code",
   "execution_count": null,
   "id": "da3b8da4",
   "metadata": {},
   "outputs": [],
   "source": [
    "import pickle\n",
    "\n",
    "with open(\"texts.pkl\", \"wb\") as f:\n",
    "    pickle.dump(texts, f)\n"
   ]
  },
  {
   "cell_type": "code",
   "execution_count": null,
   "id": "8c37d904",
   "metadata": {},
   "outputs": [],
   "source": [
    "import chromadb\n",
    "from chromadb.config import Settings\n",
    "from sentence_transformers import SentenceTransformer\n",
    "\n",
    "# Initialize ChromaDB client\n",
    "client = chromadb.Client(Settings(anonymized_telemetry=False))\n",
    "\n",
    "# Create or get the collection\n",
    "collection = client.get_or_create_collection(name=\"news_articles\")\n",
    "\n",
    "# Reload the SentenceTransformer model\n",
    "model = SentenceTransformer('all-MiniLM-L6-v2')\n",
    "\n",
    "# Your query\n",
    "query = \"election fraud\"\n",
    "\n",
    "# Create query embedding\n",
    "query_emb = model.encode([query])[0].tolist()\n",
    "\n",
    "# Query ChromaDB for the most similar titles\n",
    "results = collection.query(\n",
    "    query_embeddings=[query_emb],\n",
    "    n_results=3  # You can adjust the number of results to retrieve\n",
    ")\n",
    "\n",
    "# Display the retrieved documents (titles)\n",
    "for r in results['documents'][0]:\n",
    "    print(r)\n"
   ]
  },
  {
   "cell_type": "code",
   "execution_count": null,
   "id": "1ef0b99d",
   "metadata": {},
   "outputs": [],
   "source": [
    "# Your query\n",
    "query = \"election fraud\"\n",
    "\n",
    "# Create query embedding\n",
    "query_emb = model.encode([query])[0].tolist()\n",
    "\n",
    "# Query ChromaDB for the most similar titles\n",
    "results = collection.query(\n",
    "    query_embeddings=[query_emb],\n",
    "    n_results=3  # You can adjust the number of results to retrieve\n",
    ")\n",
    "\n",
    "# Display the retrieved documents (titles)\n",
    "for r in results['documents'][0]:\n",
    "    print(r)\n"
   ]
  },
  {
   "cell_type": "code",
   "execution_count": null,
   "id": "f251a37a",
   "metadata": {},
   "outputs": [],
   "source": [
    "from gpt4all import GPT4All\n",
    "\n",
    "# Load the model (point to the correct path of your model file)\n",
    "model_path = r\"C:\\Users\\Marc Jay\\AppData\\Local\\nomic.ai\\GPT4All\\Meta-Llama-3-8B-Instruct.Q4_0.gguf\"\n",
    "gptj = GPT4All(model_path)\n",
    "\n",
    "# Function to generate responses\n",
    "def generate_response(prompt):\n",
    "    response = gptj.generate(prompt)\n",
    "    return response\n",
    "\n",
    "# Test the model with a simple prompt\n",
    "prompt = \"What is the capital of France?\"\n",
    "response = generate_response(prompt)\n",
    "print(response)\n"
   ]
  },
  {
   "cell_type": "code",
   "execution_count": null,
   "id": "4068e8b3",
   "metadata": {},
   "outputs": [],
   "source": [
    "import pandas as pd\n",
    "import matplotlib.pyplot as plt\n",
    "\n",
    "# Load the dataset\n",
    "df = pd.read_csv('data/FakeNewsNet.csv')\n",
    "\n",
    "# Basic information about the dataset\n",
    "print(\"Dataset Information:\")\n",
    "print(df.info())\n",
    "\n",
    "# Check for missing values\n",
    "print(\"\\nMissing Values:\")\n",
    "print(df.isnull().sum())\n",
    "\n",
    "# Distribution of 'real' label (fake vs real news)\n",
    "print(\"\\nReal vs Fake News Distribution:\")\n",
    "real_fake_distribution = df['real'].value_counts()\n",
    "print(real_fake_distribution)\n",
    "\n",
    "# Plotting the distribution of the 'real' label\n",
    "real_fake_distribution.plot(kind='bar', color=['red', 'green'])\n",
    "plt.title('Distribution of Real vs Fake News')\n",
    "plt.xlabel('News Type')\n",
    "plt.ylabel('Count')\n",
    "plt.xticks(ticks=[0, 1], labels=['Fake', 'Real'], rotation=0)\n",
    "plt.show()\n",
    "\n",
    "# Check for outliers in tweet_num (retweets)\n",
    "plt.figure(figsize=(8,6))\n",
    "plt.boxplot(df['tweet_num'])\n",
    "plt.title('Distribution of Tweet Numbers (Retweets)')\n",
    "plt.ylabel('Number of Retweets')\n",
    "plt.show()\n",
    "\n",
    "# Check the length of titles\n",
    "df['title_length'] = df['title'].apply(len)\n",
    "\n",
    "# Plot the distribution of title lengths\n",
    "plt.figure(figsize=(8,6))\n",
    "plt.hist(df['title_length'], bins=30, color='skyblue')\n",
    "plt.title('Distribution of Title Lengths')\n",
    "plt.xlabel('Length of Title')\n",
    "plt.ylabel('Frequency')\n",
    "plt.show()\n"
   ]
  },
  {
   "cell_type": "code",
   "execution_count": null,
   "id": "30c42e78",
   "metadata": {},
   "outputs": [],
   "source": [
    "import pickle\n",
    "\n",
    "# Load the collected texts\n",
    "with open('texts.pkl', 'rb') as f:\n",
    "    texts = pickle.load(f)\n",
    "\n",
    "# Verify the content of texts (just checking a few)\n",
    "print(texts[:5])  # Adjust the number based on how many you want to inspect\n"
   ]
  },
  {
   "cell_type": "code",
   "execution_count": null,
   "id": "fe48ae81",
   "metadata": {},
   "outputs": [],
   "source": [
    "# Assuming 'model' is your embedding model (e.g., Sentence-Transformer)\n",
    "embeddings = model.encode(texts)\n",
    "\n",
    "# Save the embeddings to store them\n",
    "with open(\"embeddings.pkl\", \"wb\") as f:\n",
    "    pickle.dump(embeddings, f)\n",
    "\n",
    "print(f\"Generated and saved {len(embeddings)} embeddings.\")\n"
   ]
  },
  {
   "cell_type": "code",
   "execution_count": 3,
   "id": "5c96f860",
   "metadata": {},
   "outputs": [],
   "source": [
    "import chromadb\n",
    "\n",
    "client = chromadb.PersistentClient(path=\"./chroma_db\")\n",
    "collection = client.get_or_create_collection(\"news_titles\")\n"
   ]
  },
  {
   "cell_type": "code",
   "execution_count": 4,
   "id": "dcd25f37",
   "metadata": {},
   "outputs": [
    {
     "name": "stderr",
     "output_type": "stream",
     "text": [
      "C:\\Users\\Marc Jay\\.cache\\chroma\\onnx_models\\all-MiniLM-L6-v2\\onnx.tar.gz: 100%|██████████| 79.3M/79.3M [00:06<00:00, 12.1MiB/s]\n"
     ]
    },
    {
     "name": "stdout",
     "output_type": "stream",
     "text": [
      "{'ids': [['doc1', 'doc2']], 'embeddings': None, 'documents': [['AI is transforming journalism.', 'News titles need context.']], 'uris': None, 'included': ['metadatas', 'documents', 'distances'], 'data': None, 'metadatas': [[{'category': 'tech'}, {'category': 'media'}]], 'distances': [[0.35757818818092346, 1.1901781558990479]]}\n"
     ]
    }
   ],
   "source": [
    "collection.add(\n",
    "    documents=[\"AI is transforming journalism.\", \"News titles need context.\"],\n",
    "    metadatas=[{\"category\": \"tech\"}, {\"category\": \"media\"}],\n",
    "    ids=[\"doc1\", \"doc2\"]\n",
    ")\n",
    "\n",
    "results = collection.query(\n",
    "    query_texts=[\"journalism and AI\"],\n",
    "    n_results=2\n",
    ")\n",
    "\n",
    "print(results)\n"
   ]
  }
 ],
 "metadata": {
  "kernelspec": {
   "display_name": "Python 3",
   "language": "python",
   "name": "python3"
  },
  "language_info": {
   "codemirror_mode": {
    "name": "ipython",
    "version": 3
   },
   "file_extension": ".py",
   "mimetype": "text/x-python",
   "name": "python",
   "nbconvert_exporter": "python",
   "pygments_lexer": "ipython3",
   "version": "3.12.6"
  }
 },
 "nbformat": 4,
 "nbformat_minor": 5
}
